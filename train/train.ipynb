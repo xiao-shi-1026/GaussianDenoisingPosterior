{
 "cells": [
  {
   "cell_type": "code",
   "execution_count": null,
   "metadata": {},
   "outputs": [
    {
     "name": "stdout",
     "output_type": "stream",
     "text": [
      "start0epochs\n"
     ]
    },
    {
     "name": "stderr",
     "output_type": "stream",
     "text": [
      "Epoch 1/5:  14%|█▍        | 1/7 [00:02<00:13,  2.17s/it, Loss=2.73e+5]"
     ]
    }
   ],
   "source": [
    "import torch\n",
    "from DnCNN import DnCNN\n",
    "from torch.nn.modules.loss import _Loss\n",
    "import torch.optim as optim\n",
    "from dataset import ImageDataset\n",
    "from torch.utils.data import DataLoader\n",
    "from blurry import corrupt\n",
    "from tqdm import tqdm\n",
    "class sum_squared_error(_Loss):\n",
    "    \"\"\"\n",
    "    Definition: sum_squared_error = 1/2 * nn.MSELoss(reduction = 'sum')\n",
    "    The backward is defined as: input-target\n",
    "    \"\"\"\n",
    "    def __init__(self, size_average=None, reduce=None, reduction='sum'):\n",
    "        super(sum_squared_error, self).__init__(size_average, reduce, reduction)\n",
    "\n",
    "    def forward(self, input, target):\n",
    "        # return torch.sum(torch.pow(input-target,2), (0,1,2,3)).div_(2)\n",
    "        return torch.nn.functional.mse_loss(input, target, size_average=None, reduce=None, reduction='sum').div_(2)\n",
    "\n",
    "\n",
    "\n",
    "if __name__ == '__main__':\n",
    "    device = torch.device(\"cuda\" if torch.cuda.is_available() else \"cpu\")\n",
    "    train_path = r\"C:\\Users\\sx119\\Desktop\\GaussianDenoisingPosterior\\Data\\train\"\n",
    "    test_path = r\"C:\\Users\\sx119\\Desktop\\GaussianDenoisingPosterior\\Data\\validation\"\n",
    "    train_dataset = ImageDataset(train_path, device, 256)\n",
    "    train_loader = DataLoader(dataset = train_dataset, batch_size = 16, shuffle = True)\n",
    "    test_dataset = ImageDataset(test_path, device, 256)\n",
    "    test_loader = DataLoader(dataset = test_dataset, batch_size = 16, shuffle = False)\n",
    "\n",
    "    model = DnCNN(in_nc = 3, out_nc = 3, nc = 64, nb = 20, act_mode = 'BR')\n",
    "    criterion = sum_squared_error()\n",
    "    optimizer = optim.Adam(model.parameters(), lr=0.001)\n",
    "    model = model.to(device)\n",
    "    num_epochs = 5\n",
    "\n",
    "    for epoch in range(num_epochs):\n",
    "        print('start' + str(epoch) +'epochs')\n",
    "        model.train()  # Training mode\n",
    "        running_loss = 0.0\n",
    "        with tqdm(train_loader, total=len(train_loader), desc=f\"Epoch {epoch + 1}/{num_epochs}\", dynamic_ncols=True) as progress_bar:\n",
    "            for batch_idx, (inputs, labels) in enumerate(progress_bar):\n",
    "                inputs, labels = inputs.to(device), labels.to(device)\n",
    "                outputs = model(inputs)\n",
    "                loss = criterion(outputs, labels)\n",
    "                optimizer.zero_grad()\n",
    "                loss.backward()\n",
    "                optimizer.step()\n",
    "                running_loss += loss.item()\n",
    "                progress_bar.set_postfix({\"Loss\": loss.item()})\n",
    "                torch.cuda.empty_cache()\n",
    "\n",
    "    print(f\"Epoch [{epoch+1}/{num_epochs}] completed, Average Loss: {running_loss / len(train_loader):.4f}\")\n",
    "\n",
    "# 6. 测试模型\n",
    "    model.eval()  # 设置为评估模式\n",
    "    correct = 0\n",
    "    total = 0\n",
    "\n",
    "    with torch.no_grad():  # 禁用梯度计算\n",
    "        for inputs, labels in test_loader:\n",
    "            inputs, labels = inputs.to(device), labels.to(device)\n",
    "            outputs = model(inputs)\n",
    "            _, predicted = torch.max(outputs.data, 1)\n",
    "            total += labels.size(0)\n",
    "            correct += (predicted == labels).sum().item()\n",
    "\n",
    "    print(f\"Accuracy of the model on the test images: {100 * correct / total:.2f}%\")\n",
    "\n"
   ]
  }
 ],
 "metadata": {
  "kernelspec": {
   "display_name": "mypytorch",
   "language": "python",
   "name": "python3"
  },
  "language_info": {
   "codemirror_mode": {
    "name": "ipython",
    "version": 3
   },
   "file_extension": ".py",
   "mimetype": "text/x-python",
   "name": "python",
   "nbconvert_exporter": "python",
   "pygments_lexer": "ipython3",
   "version": "3.11.5"
  }
 },
 "nbformat": 4,
 "nbformat_minor": 2
}
